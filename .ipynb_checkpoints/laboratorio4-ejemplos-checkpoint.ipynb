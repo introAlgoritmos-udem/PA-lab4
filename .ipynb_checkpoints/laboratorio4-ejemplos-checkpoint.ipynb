{
 "cells": [
  {
   "cell_type": "markdown",
   "id": "d31a5234",
   "metadata": {},
   "source": [
    "[![Open In Colab](https://colab.research.google.com/assets/colab-badge.svg)](https://colab.research.google.com/github/introAlgoritmos-udem/PA-lab3/blob/main/laboratorio3.ipynb)"
   ]
  },
  {
   "cell_type": "markdown",
   "id": "cb0efaf4",
   "metadata": {},
   "source": [
    "# Introducción a la logica de programación"
   ]
  },
  {
   "cell_type": "markdown",
   "id": "5b4a1ed7",
   "metadata": {},
   "source": [
    "## Objetivos\n",
    "1. Plantear algoritmos básicos mediante el uso de diagramas de flujo.\n",
    "2. Aprender a solucionar problemas que impliquen la toma de decisiones.\n",
    "3. Codificar programas en Python que hagan uso de la estructura secuencial"
   ]
  },
  {
   "cell_type": "markdown",
   "id": "b70b847b",
   "metadata": {},
   "source": [
    "## Tipos de ciclos\n",
    "\n",
    "![tipos_ciclos](tipos_ciclos.png)\n",
    "\n",
    "## Ejemplos de las diapositivas"
   ]
  },
  {
   "cell_type": "markdown",
   "id": "5a5ecf8f",
   "metadata": {},
   "source": [
    "### Ejemplos con iteraciones conocidas"
   ]
  },
  {
   "attachments": {},
   "cell_type": "markdown",
   "id": "ed3eda43",
   "metadata": {},
   "source": [
    "1. Hacer un programa usando ciclos que escriba en pantalla 10 veces hola.\n",
    "\n",
    "   **Digrama de flujo**\n",
    "\n",
    "   ![programa_hola](hola.png)\n",
    "\n",
    "   **Solución en python**"
   ]
  },
  {
   "cell_type": "code",
   "execution_count": 1,
   "id": "9e73c2fd",
   "metadata": {},
   "outputs": [
    {
     "name": "stdout",
     "output_type": "stream",
     "text": [
      "Hola\n",
      "Hola\n",
      "Hola\n",
      "Hola\n",
      "Hola\n",
      "Hola\n",
      "Hola\n",
      "Hola\n",
      "Hola\n",
      "Hola\n"
     ]
    }
   ],
   "source": [
    "i = 1\n",
    "while (i <= 10):\n",
    "    print(\"Hola\")\n",
    "    i = i + 1"
   ]
  },
  {
   "cell_type": "markdown",
   "id": "0f91acde",
   "metadata": {},
   "source": [
    "2. Hacer un programa usando ciclos que escriba en pantalla N veces hola. El valor de N será introducido por teclado por el usuario"
   ]
  },
  {
   "cell_type": "code",
   "execution_count": null,
   "id": "d286b84d",
   "metadata": {},
   "outputs": [],
   "source": [
    "# Hagalo usted mismo"
   ]
  },
  {
   "attachments": {},
   "cell_type": "markdown",
   "id": "fc402c36",
   "metadata": {},
   "source": [
    "3. Escriba un algoritmo que calcule la suma de los primeros N números enteros, donde N es un dato de entrada.\n",
    "\n",
    "   **Diagrama de flujo**\n",
    "   \n",
    "   ![ejemplo_suma_num](ejemplo_suma_num.png)\n",
    "   \n",
    "   **Solución en python**"
   ]
  },
  {
   "cell_type": "code",
   "execution_count": null,
   "id": "0c81c59b",
   "metadata": {},
   "outputs": [],
   "source": [
    "# Inicialización de variables\n",
    "sum = 0\n",
    "num = 1\n",
    "\n",
    "# Entrada de datos\n",
    "N = int(input(\"Digite el numero final: \")) \n",
    "\n",
    "# Calculo de la suma\n",
    "while(num <= N):\n",
    "    sum = sum + num\n",
    "    num = num + 1\n",
    "    \n",
    "# Despliegue del resultado\n",
    "print(\"La suma es: \", sum, sep=\"\")"
   ]
  },
  {
   "attachments": {},
   "cell_type": "markdown",
   "id": "34c0c8d6",
   "metadata": {},
   "source": [
    "3. Hacer un programa que lea una cantidad conocida de enteros. Al finalizar el programa deberá entregar el porcentaje de números positivos, el porcentaje de números negativos, el promedio de números positivos y el promedio de números negativos.\n",
    "\n",
    "**Datos de entrada**: \n",
    "* **N**: Cantidad de números.\n",
    "* **num**: Numero leído.\n",
    "  \n",
    "**Datos de salida**: \n",
    "* **pPos**: % de números positivos.\n",
    "* **pNeg**: % de números negativos.\n",
    "* **promPos**: Promedio de números positivos.\n",
    "* **promNeg**: Promedio de números negativos.\n",
    "\n",
    "**Variables auxiliares**:\n",
    "* **i**: Cantidad de enteros leídos hasta el momento.\n",
    "* **sumNeg**: Suma total de enteros negativos.\n",
    "* **sumPos**: Suma total de enteros positivos.\n",
    "* **cntPos**: Cantidad de Positivos leídos.\n",
    "* **cntNeg**: Cantidad de negativos leídos.\n",
    "\n",
    "\n",
    "**Casos de test**\n",
    "Si el programa esta bien, deberá dar los siguientes valores:\n",
    "\n",
    "|Cantidad de numeros|Numeros|% de negativos|% de positivos|Promedio negativos|Promedio positivos|\n",
    "|---|---|---|---|---|---|\n",
    "|6|2, 3, -5, -10, 8|33.33|66.66|-7.5|4.75|\n",
    "|8|1 , 2, 0, -12, -3, -6, 9, 15|?|?|?|\n",
    "\n",
    "\n",
    "**Diagrama de flujo**\n",
    "\n",
    "![suma_num2](suma_num2.png)\n",
    "\n",
    "**Solución en python**"
   ]
  },
  {
   "cell_type": "markdown",
   "id": "608c2d9d",
   "metadata": {},
   "source": [
    "### Ejemplo preguntando antes de cada iteración (bandera)"
   ]
  },
  {
   "attachments": {},
   "cell_type": "markdown",
   "id": "2fcf1d92",
   "metadata": {},
   "source": [
    "4. Mateo esta recaudando impuestos para los romanos, al iniciar el día laboral abre caja en $0, a medida que van llegando usuarios va acumulando la cantidad hasta que finalizar el día. Realizar un programa que le ayude a Mateo a llevar esta tarea.\n",
    "\n",
    "**Datos de entrada**: \n",
    "* **ban**: Bandera que toma dos posibles valores los cuales son: \n",
    "  * **1**: Si hay un judío a quien cobrarle el impuesto\n",
    "  * **0**: Si no hay \n",
    "* **recaudo**: Valor del recaudo realizado.\n",
    "\n",
    "**Datos de salida**: \n",
    "* **total**: Total de impuestos recaudado en el día.\n",
    "\n",
    "**Casos de test**\n",
    "Si el programa esta bien, deberá dar los siguientes valores:\n",
    "\n",
    "|Recaudo|Total|\n",
    "|---|---|\n",
    "|100, 200, 1000, 1500|2800|\n",
    "|700, 200, 300,250, 760, 230|2240|\n",
    "\n",
    "**Diagrama de flujo**\n",
    "\n",
    "![impuestos](impuestos.png)\n",
    "\n",
    "**Solución python**:"
   ]
  },
  {
   "cell_type": "code",
   "execution_count": null,
   "id": "3d03fae5",
   "metadata": {},
   "outputs": [],
   "source": [
    "# Inicializacion de variables\n",
    "total = 0\n",
    "\n",
    "# Preguntar si hay cliente en la fila\n",
    "ban = int(input(\"Hay fila (1: si - 0: No): \"))\n",
    "\n",
    "# Entrada de los impuestos de cada cliente\n",
    "while(ban == 1):\n",
    "    recaudo = int(input(\"Digite el monto a pagar: \"))\n",
    "    total = total + recaudo\n",
    "    \n",
    "    # Preguntar si hay cliente en la fila\n",
    "    ban = int(input(\"Hay fila (1: si - 0: No): \"))\n",
    "\n",
    "# Despliegue del total recogido en el dia\n",
    "print(\"El total recogido durante el dia fue de: $\", total, sep = \"\")"
   ]
  },
  {
   "cell_type": "markdown",
   "id": "9e01d20e",
   "metadata": {},
   "source": [
    "### Ejemplo usando un registro centinela"
   ]
  },
  {
   "attachments": {},
   "cell_type": "markdown",
   "id": "7c537ac1",
   "metadata": {},
   "source": [
    "5. Hacer un algoritmo que encuentre la suma y el promedio de un grupo de datos enteros positivos que entran de a uno por registro. Tome el cero como un numero positivo.\n",
    "\n",
    "**Datos de entrada**: \n",
    "* **dato**: Valor positivo ingresado por el usuario. Esta variable será empleada como centinela pues cuando el dato ingresado sea negativo el programa saldrá del bucle.\n",
    "\n",
    "**Datos de salida**: \n",
    "* **suma**: Valor de la suma de los enteros positivos ingresados.\n",
    "* **prom**: Valor promedio del grupo de datos positivos.\n",
    "\n",
    "**Variables auxiliares**:\n",
    "* **cnt**: Cantidad de números positivos ingresados.\n",
    "\n",
    "**Casos de test**\n",
    "Si el programa esta bien, deberá dar los siguientes valores:\n",
    "\n",
    "|Datos ingresados|Suma|Promedio|\n",
    "|---|---|---|\n",
    "|2, 3, 6, 10, -2|21|5.25|\n",
    "|700, 230, 550, 711, 280, 336, -1|2807|467.83|\n",
    "\n",
    "**Diagrama de flujo**\n",
    "\n",
    "![suma_centinela](suma_centinela.png)\n",
    "\n",
    "**Solución python**"
   ]
  },
  {
   "cell_type": "code",
   "execution_count": null,
   "id": "e8a750e8",
   "metadata": {},
   "outputs": [],
   "source": [
    "# Inicializacion de variables\n",
    "cnt = 0\n",
    "suma = 0\n",
    "\n",
    "# Preguntar si dato\n",
    "dato = int(input(\"Digite el numero positivo a sumar (o un negativo para acabar): \"))\n",
    "\n",
    "# Entrada de los impuestos de cada cliente\n",
    "while(dato >= 0):\n",
    "    suma = suma + dato\n",
    "    cnt = cnt + 1\n",
    "    \n",
    "    # Preguntar si dato\n",
    "    dato = int(input(\"Digite el numero positivo a sumar (o un negativo para acabar): \"))\n",
    "\n",
    "# Despliegue de los resultados generales\n",
    "if(cnt == 0):\n",
    "    print(\"Promedio: 0\")\n",
    "else:\n",
    "    prom = suma/cnt\n",
    "    print(\"Promedio\", prom, sep = \"\")"
   ]
  },
  {
   "cell_type": "markdown",
   "id": "c756d6ec",
   "metadata": {},
   "source": [
    "## Ejemplos hechos en clase"
   ]
  },
  {
   "cell_type": "markdown",
   "id": "cca9bc1c",
   "metadata": {},
   "source": [
    "1. Diseñar un programa para determinar el ganador de los tres candidatos: A, B y C a unas elecciones.\n",
    "\n",
    "**Diagrama de flujo**\n",
    "\n",
    "![ejemplo_loop_elecciones](ejemplo_loop_elecciones.png)\n",
    "\n",
    "**Codigo**"
   ]
  },
  {
   "cell_type": "code",
   "execution_count": null,
   "id": "75b24709",
   "metadata": {},
   "outputs": [],
   "source": [
    "# Inicializacion de variables - Votos\n",
    "vA = 0 \n",
    "vB = 0 \n",
    "vC = 0 \n",
    "vNulos = 0\n",
    "\n",
    "# Preguntar si hay votantes\n",
    "fin = input(\"Cerrar mesa (y/n): \")\n",
    "while (fin == 'n'):\n",
    "    # Despliegue de los candidatos\n",
    "    print(\"Candidatos\")\n",
    "    print(\"1. Candidato A\")\n",
    "    print(\"2. Candidato B\")\n",
    "    print(\"3. Candidato C\")\n",
    "    # Solicitud del voto\n",
    "    voto = int(input(\"Elija el numero del candidato de su preferencia: \"))\n",
    "    # Conteo de votos\n",
    "    if(voto == 1):\n",
    "        # Voto para A\n",
    "        vA = vA + 1\n",
    "    elif (voto == 2):\n",
    "        # Voto para B\n",
    "        vB = vB + 1\n",
    "    elif (voto == 3):\n",
    "        # Voto para C\n",
    "        vC = vC + 1\n",
    "    else:\n",
    "        # Voto nulo\n",
    "        vNulos = vNulos + 1\n",
    "    # Preguntar si hay votantes\n",
    "    fin = input(\"Cerrar mesa (y/n): \")\n",
    "\n",
    "# Despliegue de los votos al cerrar la jornada de votacion\n",
    "totalValidos = vA + vB + vC\n",
    "totalVotos = totalValidos + vNulos\n",
    "\n",
    "# Despliegue de los votos\n",
    "print(\"Resultados de las votaciones\")\n",
    "print(\"-> Votos del candidato A: \", vA, sep = \"\")\n",
    "print(\"-> Votos del candidato B: \", vB, sep = \"\")\n",
    "print(\"-> Votos del candidato C: \", vC, sep = \"\")\n",
    "print(\"-> Votos nulos: \", vNulos, sep = \"\")\n",
    "print(\"-> Votos de votos: \", totalVotos, sep = \"\")\n",
    "\n",
    "# Despliegue de los ganadores\n",
    "if (vNulos >= totalValidos):\n",
    "    # Repeticion por la cantidad de votos nulos\n",
    "    print(\"Se deben repetir las elecciones\")\n",
    "else: \n",
    "    if ((vA == vB)and(vB == vC)):\n",
    "        # Repeticion por igual numero de votos para todos los candidatos\n",
    "        print(\"Se deben repetir las elecciones\")\n",
    "    else:\n",
    "        if ((vA > vB)and(vA > vC)):\n",
    "            print(\"El ganador es el candidato A\")\n",
    "        elif ((vB > vA)and(vB > vC)):\n",
    "            print(\"El ganador es el candidato B\")\n",
    "        elif ((vC > vB)and(vC > vA)):\n",
    "            print(\"El ganador es el candidato C\")\n",
    "        else:\n",
    "            print(\"Se deben repetir las elecciones\")"
   ]
  }
 ],
 "metadata": {
  "kernelspec": {
   "display_name": "Python 3",
   "language": "python",
   "name": "python3"
  },
  "language_info": {
   "codemirror_mode": {
    "name": "ipython",
    "version": 3
   },
   "file_extension": ".py",
   "mimetype": "text/x-python",
   "name": "python",
   "nbconvert_exporter": "python",
   "pygments_lexer": "ipython3",
   "version": "3.8.8"
  }
 },
 "nbformat": 4,
 "nbformat_minor": 5
}

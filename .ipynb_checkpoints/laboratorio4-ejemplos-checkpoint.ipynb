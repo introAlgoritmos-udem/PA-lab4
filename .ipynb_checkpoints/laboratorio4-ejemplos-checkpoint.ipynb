{
 "cells": [
  {
   "cell_type": "markdown",
   "id": "d31a5234",
   "metadata": {},
   "source": [
    "[![Open In Colab](https://colab.research.google.com/assets/colab-badge.svg)](https://colab.research.google.com/github/introAlgoritmos-udem/PA-lab4/blob/main/laboratorio4-ejemplos.ipynb)"
   ]
  },
  {
   "cell_type": "markdown",
   "id": "cb0efaf4",
   "metadata": {},
   "source": [
    "# Introducción a la logica de programación"
   ]
  },
  {
   "cell_type": "markdown",
   "id": "5b4a1ed7",
   "metadata": {},
   "source": [
    "## Objetivos\n",
    "1. Plantear algoritmos básicos mediante el uso de diagramas de flujo.\n",
    "2. Aprender a solucionar problemas que impliquen la toma de decisiones.\n",
    "3. Codificar programas en Python que hagan uso de la estructura secuencial"
   ]
  },
  {
   "cell_type": "markdown",
   "id": "b70b847b",
   "metadata": {},
   "source": [
    "## Tipos de ciclos\n",
    "\n",
    "![tipos_ciclos](tipos_ciclos.png)\n",
    "\n",
    "## Ejemplos de las diapositivas"
   ]
  },
  {
   "cell_type": "markdown",
   "id": "6951a38c",
   "metadata": {},
   "source": [
    "### Ejemplos con iteraciones conocidas"
   ]
  },
  {
   "cell_type": "markdown",
   "id": "ed3eda43",
   "metadata": {},
   "source": [
    "1. Hacer un programa usando ciclos que escriba en pantalla 10 veces hola.\n",
    "\n",
    "   **Digrama de flujo**\n",
    "\n",
    "   ![programa_hola](hola.png)\n",
    "\n",
    "   **Solución en python**"
   ]
  },
  {
   "cell_type": "code",
   "execution_count": 1,
   "id": "16c0cf5b",
   "metadata": {},
   "outputs": [
    {
     "name": "stdout",
     "output_type": "stream",
     "text": [
      "Hola\n",
      "Hola\n",
      "Hola\n",
      "Hola\n",
      "Hola\n",
      "Hola\n",
      "Hola\n",
      "Hola\n",
      "Hola\n",
      "Hola\n"
     ]
    }
   ],
   "source": [
    "i = 1\n",
    "while (i <= 10):\n",
    "    print(\"Hola\")\n",
    "    i = i + 1"
   ]
  },
  {
   "cell_type": "markdown",
   "id": "13ed7dcc",
   "metadata": {},
   "source": [
    "2. Hacer un programa usando ciclos que escriba en pantalla N veces hola. El valor de N será introducido por teclado por el usuario"
   ]
  },
  {
   "cell_type": "code",
   "execution_count": null,
   "id": "01db90fc",
   "metadata": {},
   "outputs": [],
   "source": [
    "# Hagalo usted mismo"
   ]
  },
  {
   "cell_type": "markdown",
   "id": "5ec5ea89",
   "metadata": {},
   "source": [
    "3. Escriba un algoritmo que calcule la suma de los primeros N números enteros, donde N es un dato de entrada.\n",
    "\n",
    "   **Diagrama de flujo**\n",
    "   \n",
    "   ![ejemplo_suma_num](ejemplo_suma_num.png)\n",
    "   \n",
    "   **Solución en python**"
   ]
  },
  {
   "cell_type": "code",
   "execution_count": null,
   "id": "b7c7e74c",
   "metadata": {},
   "outputs": [],
   "source": [
    "# Inicialización de variables\n",
    "sum = 0\n",
    "num = 1\n",
    "\n",
    "# Entrada de datos\n",
    "N = int(input(\"Digite el numero final: \")) \n",
    "\n",
    "# Calculo de la suma\n",
    "while(num <= N):\n",
    "    sum = sum + num\n",
    "    num = num + 1\n",
    "    \n",
    "# Despliegue del resultado\n",
    "print(\"La suma es: \", sum, sep=\"\")"
   ]
  },
  {
   "cell_type": "markdown",
   "id": "c820672e",
   "metadata": {},
   "source": [
    "3. Hacer un programa que lea una cantidad conocida de enteros. Al finalizar el programa deberá entregar el porcentaje de números positivos, el porcentaje de números negativos, el promedio de números positivos y el promedio de números negativos.\n",
    "\n",
    "**Datos de entrada**: \n",
    "* **N**: Cantidad de números.\n",
    "* **num**: Numero leído.\n",
    "  \n",
    "**Datos de salida**: \n",
    "* **pPos**: % de números positivos.\n",
    "* **pNeg**: % de números negativos.\n",
    "* **promPos**: Promedio de números positivos.\n",
    "* **promNeg**: Promedio de números negativos.\n",
    "\n",
    "**Variables auxiliares**:\n",
    "* **i**: Cantidad de enteros leídos hasta el momento.\n",
    "* **sumNeg**: Suma total de enteros negativos.\n",
    "* **sumPos**: Suma total de enteros positivos.\n",
    "* **cntPos**: Cantidad de Positivos leídos.\n",
    "* **cntNeg**: Cantidad de negativos leídos.\n",
    "\n",
    "\n",
    "**Casos de test**\n",
    "Si el programa esta bien, deberá dar los siguientes valores:\n",
    "\n",
    "|Cantidad de numeros|Numeros|% de negativos|% de positivos|Promedio negativos|Promedio positivos|\n",
    "|---|---|---|---|---|---|\n",
    "|6|2, 3, -5, -10, 8|33.33|66.66|-7.5|4.75|\n",
    "|8|1 , 2, 0, -12, -3, -6, 9, 15|?|?|?|\n",
    "\n",
    "\n",
    "**Diagrama de flujo**\n",
    "\n",
    "![suma_num2](suma_num2.png)\n",
    "\n",
    "**Solución en python**"
   ]
  },
  {
   "cell_type": "markdown",
   "id": "40dd8272",
   "metadata": {},
   "source": [
    "### Ejemplo preguntando antes de cada iteración (bandera)"
   ]
  },
  {
   "cell_type": "markdown",
   "id": "b4f6477f",
   "metadata": {},
   "source": [
    "4. Mateo esta recaudando impuestos para los romanos, al iniciar el día laboral abre caja en $0, a medida que van llegando usuarios va acumulando la cantidad hasta que finalizar el día. Realizar un programa que le ayude a Mateo a llevar esta tarea.\n",
    "\n",
    "**Datos de entrada**: \n",
    "* **ban**: Bandera que toma dos posibles valores los cuales son: \n",
    "  * **1**: Si hay un judío a quien cobrarle el impuesto\n",
    "  * **0**: Si no hay \n",
    "* **recaudo**: Valor del recaudo realizado.\n",
    "\n",
    "**Datos de salida**: \n",
    "* **total**: Total de impuestos recaudado en el día.\n",
    "\n",
    "**Casos de test**\n",
    "Si el programa esta bien, deberá dar los siguientes valores:\n",
    "\n",
    "|Recaudo|Total|\n",
    "|---|---|\n",
    "|100, 200, 1000, 1500|2800|\n",
    "|700, 200, 300,250, 760, 230|2240|\n",
    "\n",
    "**Diagrama de flujo**\n",
    "\n",
    "![impuestos](impuestos.png)\n",
    "\n",
    "**Solución python**:"
   ]
  },
  {
   "cell_type": "code",
   "execution_count": null,
   "id": "3dc7f8fe",
   "metadata": {},
   "outputs": [],
   "source": [
    "# Inicializacion de variables\n",
    "total = 0\n",
    "\n",
    "# Preguntar si hay cliente en la fila\n",
    "ban = int(input(\"Hay fila (1: si - 0: No): \"))\n",
    "\n",
    "# Entrada de los impuestos de cada cliente\n",
    "while(ban == 1):\n",
    "    recaudo = int(input(\"Digite el monto a pagar: \"))\n",
    "    total = total + recaudo\n",
    "    \n",
    "    # Preguntar si hay cliente en la fila\n",
    "    ban = int(input(\"Hay fila (1: si - 0: No): \"))\n",
    "\n",
    "# Despliegue del total recogido en el dia\n",
    "print(\"El total recogido durante el dia fue de: $\", total, sep = \"\")"
   ]
  },
  {
   "cell_type": "markdown",
   "id": "d3385d91",
   "metadata": {},
   "source": [
    "### Ejemplo usando un registro centinela"
   ]
  },
  {
   "cell_type": "markdown",
   "id": "7f2e742e",
   "metadata": {},
   "source": [
    "5. Hacer un algoritmo que encuentre la suma y el promedio de un grupo de datos enteros positivos que entran de a uno por registro. Tome el cero como un numero positivo.\n",
    "\n",
    "**Datos de entrada**: \n",
    "* **dato**: Valor positivo ingresado por el usuario. Esta variable será empleada como centinela pues cuando el dato ingresado sea negativo el programa saldrá del bucle.\n",
    "\n",
    "**Datos de salida**: \n",
    "* **suma**: Valor de la suma de los enteros positivos ingresados.\n",
    "* **prom**: Valor promedio del grupo de datos positivos.\n",
    "\n",
    "**Variables auxiliares**:\n",
    "* **cnt**: Cantidad de números positivos ingresados.\n",
    "\n",
    "**Casos de test**\n",
    "Si el programa esta bien, deberá dar los siguientes valores:\n",
    "\n",
    "|Datos ingresados|Suma|Promedio|\n",
    "|---|---|---|\n",
    "|2, 3, 6, 10, -2|21|5.25|\n",
    "|700, 230, 550, 711, 280, 336, -1|2807|467.83|\n",
    "\n",
    "**Diagrama de flujo**\n",
    "\n",
    "![suma_centinela](suma_centinela.png)\n",
    "\n",
    "**Solución python**"
   ]
  },
  {
   "cell_type": "code",
   "execution_count": null,
   "id": "8ddce5a7",
   "metadata": {},
   "outputs": [],
   "source": [
    "# Inicializacion de variables\n",
    "cnt = 0\n",
    "suma = 0\n",
    "\n",
    "# Preguntar si dato\n",
    "dato = int(input(\"Digite el numero positivo a sumar (o un negativo para acabar): \"))\n",
    "\n",
    "# Entrada de los impuestos de cada cliente\n",
    "while(dato >= 0):\n",
    "    suma = suma + dato\n",
    "    cnt = cnt + 1\n",
    "    \n",
    "    # Preguntar si dato\n",
    "    dato = int(input(\"Digite el numero positivo a sumar (o un negativo para acabar): \"))\n",
    "\n",
    "# Despliegue de los resultados generales\n",
    "if(cnt == 0):\n",
    "    print(\"Promedio: 0\")\n",
    "else:\n",
    "    prom = suma/cnt\n",
    "    print(\"Promedio\", prom, sep = \"\")"
   ]
  },
  {
   "cell_type": "markdown",
   "id": "c756d6ec",
   "metadata": {},
   "source": [
    "## Ejemplos hechos en clase"
   ]
  },
  {
   "cell_type": "markdown",
   "id": "cca9bc1c",
   "metadata": {},
   "source": [
    "1. Diseñar un programa para determinar el ganador de los tres candidatos: A, B y C a unas elecciones.\n",
    "\n",
    "**Diagrama de flujo**\n",
    "\n",
    "![ejemplo_loop_elecciones](ejemplo_loop_elecciones.png)\n",
    "\n",
    "**Codigo**"
   ]
  },
  {
   "cell_type": "code",
   "execution_count": null,
   "id": "733657f8",
   "metadata": {},
   "outputs": [],
   "source": [
    "# Inicializacion de variables - Votos\n",
    "vA = 0 \n",
    "vB = 0 \n",
    "vC = 0 \n",
    "vNulos = 0\n",
    "\n",
    "# Preguntar si hay votantes\n",
    "fin = input(\"Cerrar mesa (y/n): \")\n",
    "while (fin == 'n'):\n",
    "    # Despliegue de los candidatos\n",
    "    print(\"Candidatos\")\n",
    "    print(\"1. Candidato A\")\n",
    "    print(\"2. Candidato B\")\n",
    "    print(\"3. Candidato C\")\n",
    "    # Solicitud del voto\n",
    "    voto = int(input(\"Elija el numero del candidato de su preferencia: \"))\n",
    "    # Conteo de votos\n",
    "    if(voto == 1):\n",
    "        # Voto para A\n",
    "        vA = vA + 1\n",
    "    elif (voto == 2):\n",
    "        # Voto para B\n",
    "        vB = vB + 1\n",
    "    elif (voto == 3):\n",
    "        # Voto para C\n",
    "        vC = vC + 1\n",
    "    else:\n",
    "        # Voto nulo\n",
    "        vNulos = vNulos + 1\n",
    "    # Preguntar si hay votantes\n",
    "    fin = input(\"Cerrar mesa (y/n): \")\n",
    "\n",
    "# Despliegue de los votos al cerrar la jornada de votacion\n",
    "totalValidos = vA + vB + vC\n",
    "totalVotos = totalValidos + vNulos\n",
    "\n",
    "# Despliegue de los votos\n",
    "print(\"Resultados de las votaciones\")\n",
    "print(\"-> Votos del candidato A: \", vA, sep = \"\")\n",
    "print(\"-> Votos del candidato B: \", vB, sep = \"\")\n",
    "print(\"-> Votos del candidato C: \", vC, sep = \"\")\n",
    "print(\"-> Votos nulos: \", vNulos, sep = \"\")\n",
    "print(\"-> Votos de votos: \", totalVotos, sep = \"\")\n",
    "\n",
    "# Despliegue de los ganadores\n",
    "if (vNulos >= totalValidos):\n",
    "    # Repeticion por la cantidad de votos nulos\n",
    "    print(\"Se deben repetir las elecciones\")\n",
    "else: \n",
    "    if ((vA == vB)and(vB == vC)):\n",
    "        # Repeticion por igual numero de votos para todos los candidatos\n",
    "        print(\"Se deben repetir las elecciones\")\n",
    "    else:\n",
    "        if ((vA > vB)and(vA > vC)):\n",
    "            print(\"El ganador es el candidato A\")\n",
    "        elif ((vB > vA)and(vB > vC)):\n",
    "            print(\"El ganador es el candidato B\")\n",
    "        elif ((vC > vB)and(vC > vA)):\n",
    "            print(\"El ganador es el candidato C\")\n",
    "        else:\n",
    "            print(\"Se deben repetir las elecciones\")"
   ]
  },
  {
   "cell_type": "markdown",
   "id": "2c37ec81",
   "metadata": {},
   "source": [
    "## Ejercicios de repaso"
   ]
  },
  {
   "attachments": {},
   "cell_type": "markdown",
   "id": "bda20bde",
   "metadata": {},
   "source": [
    "1. Construya un algoritmo que permita mostrar los números enteros desde 0 hasta N. N debe ser positivo, si el usuario lo ingresa negativo hay que modificarlo (es decir volverlo positivo)."
   ]
  },
  {
   "cell_type": "code",
   "execution_count": 2,
   "id": "d98ce3b5",
   "metadata": {},
   "outputs": [],
   "source": [
    "# Solución"
   ]
  },
  {
   "attachments": {},
   "cell_type": "markdown",
   "id": "c4509ca7",
   "metadata": {},
   "source": [
    "2. Modifique el anterior ejercicio para mostrar los número enteros desde 0 hasta -N. Si el usuario ingresa N positivo hay que volverlo negativo."
   ]
  },
  {
   "cell_type": "code",
   "execution_count": 2,
   "id": "7a5efbb8",
   "metadata": {},
   "outputs": [],
   "source": [
    "# Solución"
   ]
  },
  {
   "attachments": {},
   "cell_type": "markdown",
   "id": "cd6fe8be",
   "metadata": {},
   "source": [
    "3. Modifique el anterior ejercicio para que se muestren los números enteros desde N hasta M. N debe ser menor que M y en caso contrario se deben intercambiar."
   ]
  },
  {
   "cell_type": "code",
   "execution_count": 2,
   "id": "76372fde",
   "metadata": {},
   "outputs": [],
   "source": [
    "# Solución"
   ]
  },
  {
   "attachments": {},
   "cell_type": "markdown",
   "id": "51a7cfd3",
   "metadata": {},
   "source": [
    "4. Modifique el ejercicio anterior para que se muestren solo los números pares desde N hasta M."
   ]
  },
  {
   "cell_type": "code",
   "execution_count": 2,
   "id": "4d690198",
   "metadata": {},
   "outputs": [],
   "source": [
    "# Solución"
   ]
  },
  {
   "attachments": {},
   "cell_type": "markdown",
   "id": "0c2d815b",
   "metadata": {},
   "source": [
    "5. Modifique el ejercicio anterior para que se muestren los números pares o impares según el usuario lo desee desde N hasta M. N debe ser menor que M y en caso contrario hay que intercambiarlos."
   ]
  },
  {
   "cell_type": "code",
   "execution_count": 2,
   "id": "f6d051ed",
   "metadata": {},
   "outputs": [],
   "source": [
    "# Solución"
   ]
  },
  {
   "attachments": {},
   "cell_type": "markdown",
   "id": "cc75bbe2",
   "metadata": {},
   "source": [
    "6. Leer por el teclado N números enteros. Se desea saber cuantos de ellos son divisibles exactamente por 7 y cuantos no lo son."
   ]
  },
  {
   "cell_type": "code",
   "execution_count": 2,
   "id": "2441447a",
   "metadata": {},
   "outputs": [],
   "source": [
    "# Solución"
   ]
  },
  {
   "cell_type": "markdown",
   "id": "1727ccad",
   "metadata": {},
   "source": [
    "7. Elabore un algoritmo que lea un numero entero n y que imprima todos los múltiplos de 3 hasta n."
   ]
  },
  {
   "cell_type": "code",
   "execution_count": 2,
   "id": "cd522ac2",
   "metadata": {},
   "outputs": [],
   "source": [
    "# Solución"
   ]
  },
  {
   "attachments": {},
   "cell_type": "markdown",
   "id": "12d5d3d6",
   "metadata": {},
   "source": [
    "8. Elaborar un algoritmo que encuentre el mayor de un grupo de datos positivos."
   ]
  },
  {
   "cell_type": "code",
   "execution_count": 2,
   "id": "3f64d458",
   "metadata": {},
   "outputs": [],
   "source": [
    "# Solución"
   ]
  },
  {
   "cell_type": "markdown",
   "id": "17b0cc10",
   "metadata": {},
   "source": [
    "9. Dadas N notas de un estudiante del curso de Informática 1, calcular:\n",
    "   * Cuantas notas tiene perdidas.\n",
    "   * Cuantas notas tiene ganadas.\n",
    "   * Cual es el promedio de notas.\n",
    "   * Cual fue la menor nota.\n",
    "   * Cual fue la mayor nota."
   ]
  },
  {
   "cell_type": "code",
   "execution_count": 2,
   "id": "dc0471d1",
   "metadata": {},
   "outputs": [],
   "source": [
    "# Solución"
   ]
  },
  {
   "cell_type": "markdown",
   "id": "0c6f5ba1",
   "metadata": {},
   "source": [
    "10. Dados N valores, diseñe un algoritmo que haga el siguiente proceso:\n",
    "  * Si el valor es menor que cero, calcular su cubo.\n",
    "  * Si el valor esta entre 0 y 100, calcular su cuadrado.\n",
    "  * Si el valor esta entre 101 y 1000 calcular su raíz cuadrada."
   ]
  },
  {
   "cell_type": "code",
   "execution_count": 2,
   "id": "6b1a21d9",
   "metadata": {},
   "outputs": [],
   "source": [
    "# Solución"
   ]
  },
  {
   "cell_type": "markdown",
   "id": "7d6d91d6",
   "metadata": {},
   "source": [
    "11. En un supermercado un ama de casa pone en su carrito los artículos que va tomando de los estantes. La señora quiere asegurarse de que el cajero le cobre bien lo que ella ha comprado; por lo cual cada vez que ella compra un articulo distinto le coloca un código numérico mayor que 0, anota la cantidad de artículos iguales y su precio y, determina cuanto dinero gastara en este articulo; a esto le suma lo que iría gastando en los demás artículos, hasta que decide que ya tomo lo que necesitaba. Hacer un algoritmo que le muestre a la señora el código del articulo, la cantidad de artículos de cada especie, el importe total por articulo y el importe total de la compra."
   ]
  },
  {
   "cell_type": "code",
   "execution_count": 2,
   "id": "8bdd8699",
   "metadata": {},
   "outputs": [],
   "source": [
    "# Solución"
   ]
  },
  {
   "cell_type": "markdown",
   "id": "144a1172",
   "metadata": {},
   "source": [
    "12. Realizar un algoritmo que calcule el factorial de un numero."
   ]
  },
  {
   "cell_type": "code",
   "execution_count": 2,
   "id": "90dd17cd",
   "metadata": {},
   "outputs": [],
   "source": [
    "# Solución"
   ]
  },
  {
   "cell_type": "markdown",
   "id": "d1a982cc",
   "metadata": {},
   "source": [
    "13. Realizar un algoritmo que muestre los primeros N términos de la siguiente serie:  0, - 2, 4, -6, 8, -10, 12, ... "
   ]
  },
  {
   "cell_type": "code",
   "execution_count": 2,
   "id": "4eac0f77",
   "metadata": {},
   "outputs": [],
   "source": [
    "# Solución"
   ]
  },
  {
   "cell_type": "markdown",
   "id": "aacbbf57",
   "metadata": {},
   "source": [
    "14. Realizar un algoritmo que muestre los primeros N términos de la siguiente serie: 0,  -2, 4, -6, 8, 10,- 12, 14, 16, 18, -20, 22, 24, 26, 28, -30 ... "
   ]
  },
  {
   "cell_type": "code",
   "execution_count": 2,
   "id": "6e2b02c5",
   "metadata": {},
   "outputs": [],
   "source": [
    "# Solución"
   ]
  },
  {
   "cell_type": "markdown",
   "id": "e22b4878",
   "metadata": {},
   "source": [
    "15. Elaborar un algoritmo que lea un valor de x, y calcule el valor de los N primeros términos de la serie:\n",
    "\n",
    "$$1 - \\frac{x^3}{1*2} + \\frac{x^5}{3*4} - \\frac{x^7}{5*6} + \\frac{x^9}{7*8} - ...$$"
   ]
  },
  {
   "cell_type": "code",
   "execution_count": 2,
   "id": "23771544",
   "metadata": {},
   "outputs": [],
   "source": [
    "# Solución"
   ]
  },
  {
   "cell_type": "markdown",
   "id": "1feb3963",
   "metadata": {},
   "source": [
    "16. Encontrar el valor de  para un valor dado de exp(x) dado, mediante la serie:\n",
    "\n",
    "$$e^x = 1 + \\frac{x}{1!} + \\frac{x^2}{2!} + \\frac{x^3}{3!} + \\frac{x^4}{4!} + ...$$"
   ]
  },
  {
   "cell_type": "code",
   "execution_count": 2,
   "id": "20c92274",
   "metadata": {},
   "outputs": [],
   "source": [
    "# Solución"
   ]
  },
  {
   "attachments": {},
   "cell_type": "markdown",
   "id": "3841bcfa",
   "metadata": {},
   "source": [
    "17. En una entidad crediticia, se necesita tener actualizado el valor en pesos que se han ingresado para cuentas corrientes y cuentas de ahorros por separado. Para n clientes del banco, hacer un programa que le permita saber el monto total consignado en cuentas corrientes y el monto consignado en cuentas de ahorros. Validar que ninguno de los montos ingresados sea negativo y de serlo no tenerlo presente en la sumatoria y contarlo para después mostrar que porcentaje del total de consignaciones fueron negativas."
   ]
  },
  {
   "cell_type": "code",
   "execution_count": 2,
   "id": "1466c7e0",
   "metadata": {},
   "outputs": [],
   "source": [
    "# Solución"
   ]
  },
  {
   "attachments": {},
   "cell_type": "markdown",
   "id": "fe0ae54e",
   "metadata": {},
   "source": [
    "18. Una oficina de seguros de Medellín ha reunido datos concernientes a todos los accidentes de tránsito ocurridos en el área metropolitana de Medellín en el último año. Por cada conductor involucrado en un accidente se toman los siguientes datos: año de nacimiento, sexo (1: Femenino, 2: Masculino), registro del carro (1: Medellín, 2 Otras ciudades). Hacer un algoritmo que muestre:\n",
    "  * El porcentaje de conductores menores de 25 años.\n",
    "  * Porcentaje de conductores de sexo femenino.\n",
    "  * Porcentaje de conductores masculinos con edades entre los 12 y 30 años.\n",
    "  * Porcentaje de conductores cuyos carros están registrados fuera de Medellín."
   ]
  },
  {
   "cell_type": "code",
   "execution_count": 2,
   "id": "46a57608",
   "metadata": {},
   "outputs": [],
   "source": [
    "# Solución"
   ]
  },
  {
   "attachments": {},
   "cell_type": "markdown",
   "id": "8b6e9bda",
   "metadata": {},
   "source": [
    "19. Para cada de los estudiantes de una universidad, donde cada uno cursa 4 materias se tienen los siguientes datos:\n",
    "    * Código del estudiante.\n",
    "    * Nota materia 1.\n",
    "    * Nota materia 2.\n",
    "    * Nota materia 3.\n",
    "    * Nota materia 4.\n",
    "\n",
    "Hacer un algoritmo que encuentre y despliegue para cada estudiante el promedio crédito."
   ]
  },
  {
   "cell_type": "code",
   "execution_count": null,
   "id": "087d906e",
   "metadata": {},
   "outputs": [],
   "source": [
    "# Solución"
   ]
  },
  {
   "cell_type": "markdown",
   "id": "6a337b15",
   "metadata": {},
   "source": [
    "20. Varias ambulancias recorren la ciudad y cuando se recibe en la CENTRAL una llamada se informa la ubicación de la emergencia mediante coordenadas, lo mismo que la ubicación de todas las ambulaciones. La central es el punto (0,0) u origen de coordenadas. Se sabe que existen N ambulancias en servicio. Realice un algoritmo que, dada la información necesaria, informe las coordenadas de la ambulancia más cercana al punto de emergencia."
   ]
  },
  {
   "cell_type": "code",
   "execution_count": null,
   "id": "57281d28",
   "metadata": {},
   "outputs": [],
   "source": [
    "# Solución"
   ]
  },
  {
   "attachments": {},
   "cell_type": "markdown",
   "id": "e8910e1c",
   "metadata": {},
   "source": [
    "21. Se tiene una serie de registros de ellos tiene 4 valores, que corresponden a las longitudes de diferentes patas de una mesa. Elaborar de un algoritmo que chequee si con los 4 valores leídos en cada registro se puede fabricar una mesa no coja, de cuatro patas o, una mesa no coja de 3 patas en caso de que no se pueda fabricar una de 4. El algoritmo debe mostrar el número de mesas de 4 y 3 patas que se pueden formar, lo mismo que la cantidad de patas sobrantes."
   ]
  },
  {
   "cell_type": "code",
   "execution_count": null,
   "id": "0fdb6304",
   "metadata": {},
   "outputs": [],
   "source": [
    "# Solución"
   ]
  },
  {
   "attachments": {},
   "cell_type": "markdown",
   "id": "f173acce",
   "metadata": {},
   "source": [
    "22. Realizar un algoritmo que muestre los primeros N términos la serie Fibonacci, la cual tiene: 0, 1, 1, 2, 3, 5, 8, ... "
   ]
  },
  {
   "cell_type": "code",
   "execution_count": null,
   "id": "06e23942",
   "metadata": {},
   "outputs": [],
   "source": [
    "# Solución"
   ]
  }
 ],
 "metadata": {
  "kernelspec": {
   "display_name": "Python 3",
   "language": "python",
   "name": "python3"
  },
  "language_info": {
   "codemirror_mode": {
    "name": "ipython",
    "version": 3
   },
   "file_extension": ".py",
   "mimetype": "text/x-python",
   "name": "python",
   "nbconvert_exporter": "python",
   "pygments_lexer": "ipython3",
   "version": "3.8.8"
  }
 },
 "nbformat": 4,
 "nbformat_minor": 5
}
